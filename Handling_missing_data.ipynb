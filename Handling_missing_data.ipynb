{
  "nbformat": 4,
  "nbformat_minor": 0,
  "metadata": {
    "anaconda-cloud": {},
    "kernelspec": {
      "display_name": "Python [conda root]",
      "language": "python",
      "name": "conda-root-py"
    },
    "language_info": {
      "codemirror_mode": {
        "name": "ipython",
        "version": 3
      },
      "file_extension": ".py",
      "mimetype": "text/x-python",
      "name": "python",
      "nbconvert_exporter": "python",
      "pygments_lexer": "ipython3",
      "version": "3.5.2"
    },
    "colab": {
      "name": "Alaa_handling_missing_data_fillna_dropna_interpolate.ipynb",
      "provenance": [],
      "include_colab_link": true
    }
  },
  "cells": [
    {
      "cell_type": "markdown",
      "metadata": {
        "id": "view-in-github",
        "colab_type": "text"
      },
      "source": [
        "<a href=\"https://colab.research.google.com/github/asheta66/Capuchin-search-algorithm-CapSA-/blob/master/Handling_missing_data.ipynb\" target=\"_parent\"><img src=\"https://colab.research.google.com/assets/colab-badge.svg\" alt=\"Open In Colab\"/></a>"
      ]
    },
    {
      "cell_type": "markdown",
      "metadata": {
        "id": "hrMrTwjOKGmD"
      },
      "source": [
        "## <font color=\"maroon\"><h4 align=\"center\">Handling Missing Data - fillna, interpolate, dropna</font>"
      ]
    },
    {
      "cell_type": "code",
      "metadata": {
        "id": "3MG8i8iDMLRz"
      },
      "source": [
        "import pandas as pd\n",
        "import numpy as np"
      ],
      "execution_count": null,
      "outputs": []
    },
    {
      "cell_type": "markdown",
      "metadata": {
        "id": "pagD1imZKZkG"
      },
      "source": [
        "## What does \"NaN\" mean?\n",
        "\"NaN\" is not a string, rather it's a special value: numpy.nan.\n",
        "It stands for \"Not a Number\" and indicates a missing value.\n",
        "read_csv detects missing values (by default) when reading the file, and replaces them with this special value."
      ]
    },
    {
      "cell_type": "code",
      "metadata": {
        "id": "XkdtcKaLDf69",
        "colab": {
          "base_uri": "https://localhost:8080/",
          "height": 136
        },
        "outputId": "a093f57a-4912-4558-ec3a-56468e5aee56"
      },
      "source": [
        "ufo = pd.read_csv('C:\\Users\\Admin\\Desktop\\Data\\COPD\\Test1.csv')"
      ],
      "execution_count": null,
      "outputs": [
        {
          "output_type": "error",
          "ename": "SyntaxError",
          "evalue": "ignored",
          "traceback": [
            "\u001b[0;36m  File \u001b[0;32m\"<ipython-input-3-03567474a8bf>\"\u001b[0;36m, line \u001b[0;32m1\u001b[0m\n\u001b[0;31m    ufo = pd.read_csv('C:\\Users\\Admin\\Desktop\\Data\\COPD\\Test1.csv')\u001b[0m\n\u001b[0m                     ^\u001b[0m\n\u001b[0;31mSyntaxError\u001b[0m\u001b[0;31m:\u001b[0m (unicode error) 'unicodeescape' codec can't decode bytes in position 2-3: truncated \\UXXXXXXXX escape\n"
          ]
        }
      ]
    },
    {
      "cell_type": "code",
      "metadata": {
        "colab": {
          "base_uri": "https://localhost:8080/",
          "height": 204
        },
        "id": "i5xX-TG7KWfV",
        "outputId": "2d014255-038a-4383-fdcc-de2df9b5fc0e"
      },
      "source": [
        "ufo.tail()"
      ],
      "execution_count": null,
      "outputs": [
        {
          "output_type": "execute_result",
          "data": {
            "text/html": [
              "<div>\n",
              "<style scoped>\n",
              "    .dataframe tbody tr th:only-of-type {\n",
              "        vertical-align: middle;\n",
              "    }\n",
              "\n",
              "    .dataframe tbody tr th {\n",
              "        vertical-align: top;\n",
              "    }\n",
              "\n",
              "    .dataframe thead th {\n",
              "        text-align: right;\n",
              "    }\n",
              "</style>\n",
              "<table border=\"1\" class=\"dataframe\">\n",
              "  <thead>\n",
              "    <tr style=\"text-align: right;\">\n",
              "      <th></th>\n",
              "      <th>City</th>\n",
              "      <th>Colors Reported</th>\n",
              "      <th>Shape Reported</th>\n",
              "      <th>State</th>\n",
              "      <th>Time</th>\n",
              "    </tr>\n",
              "  </thead>\n",
              "  <tbody>\n",
              "    <tr>\n",
              "      <th>18236</th>\n",
              "      <td>Grant Park</td>\n",
              "      <td>NaN</td>\n",
              "      <td>TRIANGLE</td>\n",
              "      <td>IL</td>\n",
              "      <td>12/31/2000 23:00</td>\n",
              "    </tr>\n",
              "    <tr>\n",
              "      <th>18237</th>\n",
              "      <td>Spirit Lake</td>\n",
              "      <td>NaN</td>\n",
              "      <td>DISK</td>\n",
              "      <td>IA</td>\n",
              "      <td>12/31/2000 23:00</td>\n",
              "    </tr>\n",
              "    <tr>\n",
              "      <th>18238</th>\n",
              "      <td>Eagle River</td>\n",
              "      <td>NaN</td>\n",
              "      <td>NaN</td>\n",
              "      <td>WI</td>\n",
              "      <td>12/31/2000 23:45</td>\n",
              "    </tr>\n",
              "    <tr>\n",
              "      <th>18239</th>\n",
              "      <td>Eagle River</td>\n",
              "      <td>RED</td>\n",
              "      <td>LIGHT</td>\n",
              "      <td>WI</td>\n",
              "      <td>12/31/2000 23:45</td>\n",
              "    </tr>\n",
              "    <tr>\n",
              "      <th>18240</th>\n",
              "      <td>Ybor</td>\n",
              "      <td>NaN</td>\n",
              "      <td>OVAL</td>\n",
              "      <td>FL</td>\n",
              "      <td>12/31/2000 23:59</td>\n",
              "    </tr>\n",
              "  </tbody>\n",
              "</table>\n",
              "</div>"
            ],
            "text/plain": [
              "              City Colors Reported Shape Reported State              Time\n",
              "18236   Grant Park             NaN       TRIANGLE    IL  12/31/2000 23:00\n",
              "18237  Spirit Lake             NaN           DISK    IA  12/31/2000 23:00\n",
              "18238  Eagle River             NaN            NaN    WI  12/31/2000 23:45\n",
              "18239  Eagle River             RED          LIGHT    WI  12/31/2000 23:45\n",
              "18240         Ybor             NaN           OVAL    FL  12/31/2000 23:59"
            ]
          },
          "metadata": {
            "tags": []
          },
          "execution_count": 16
        }
      ]
    },
    {
      "cell_type": "code",
      "metadata": {
        "colab": {
          "base_uri": "https://localhost:8080/",
          "height": 181
        },
        "id": "IhsVFeuUKk7V",
        "outputId": "84901d4a-6889-479b-a0dc-6c1093854c3c"
      },
      "source": [
        "# 'isnull' returns a DataFrame of booleans (True if missing, False if not missing)\n",
        "ufo.isnull().tail()"
      ],
      "execution_count": null,
      "outputs": [
        {
          "output_type": "error",
          "ename": "NameError",
          "evalue": "ignored",
          "traceback": [
            "\u001b[0;31m---------------------------------------------------------------------------\u001b[0m",
            "\u001b[0;31mNameError\u001b[0m                                 Traceback (most recent call last)",
            "\u001b[0;32m<ipython-input-1-0dfbdb2c74f8>\u001b[0m in \u001b[0;36m<module>\u001b[0;34m()\u001b[0m\n\u001b[1;32m      1\u001b[0m \u001b[0;31m# 'isnull' returns a DataFrame of booleans (True if missing, False if not missing)\u001b[0m\u001b[0;34m\u001b[0m\u001b[0;34m\u001b[0m\u001b[0;34m\u001b[0m\u001b[0m\n\u001b[0;32m----> 2\u001b[0;31m \u001b[0mufo\u001b[0m\u001b[0;34m.\u001b[0m\u001b[0misnull\u001b[0m\u001b[0;34m(\u001b[0m\u001b[0;34m)\u001b[0m\u001b[0;34m\u001b[0m\u001b[0;34m\u001b[0m\u001b[0m\n\u001b[0m",
            "\u001b[0;31mNameError\u001b[0m: name 'ufo' is not defined"
          ]
        }
      ]
    },
    {
      "cell_type": "code",
      "metadata": {
        "colab": {
          "base_uri": "https://localhost:8080/",
          "height": 204
        },
        "id": "IttW4egtKq5I",
        "outputId": "36d17ef2-5812-4990-cfd9-bb1170262c0b"
      },
      "source": [
        "# 'nonnull' returns the opposite of 'isnull' (True if not missing, False if missing)\n",
        "ufo.notnull().tail()"
      ],
      "execution_count": null,
      "outputs": [
        {
          "output_type": "execute_result",
          "data": {
            "text/html": [
              "<div>\n",
              "<style scoped>\n",
              "    .dataframe tbody tr th:only-of-type {\n",
              "        vertical-align: middle;\n",
              "    }\n",
              "\n",
              "    .dataframe tbody tr th {\n",
              "        vertical-align: top;\n",
              "    }\n",
              "\n",
              "    .dataframe thead th {\n",
              "        text-align: right;\n",
              "    }\n",
              "</style>\n",
              "<table border=\"1\" class=\"dataframe\">\n",
              "  <thead>\n",
              "    <tr style=\"text-align: right;\">\n",
              "      <th></th>\n",
              "      <th>City</th>\n",
              "      <th>Colors Reported</th>\n",
              "      <th>Shape Reported</th>\n",
              "      <th>State</th>\n",
              "      <th>Time</th>\n",
              "    </tr>\n",
              "  </thead>\n",
              "  <tbody>\n",
              "    <tr>\n",
              "      <th>18236</th>\n",
              "      <td>True</td>\n",
              "      <td>False</td>\n",
              "      <td>True</td>\n",
              "      <td>True</td>\n",
              "      <td>True</td>\n",
              "    </tr>\n",
              "    <tr>\n",
              "      <th>18237</th>\n",
              "      <td>True</td>\n",
              "      <td>False</td>\n",
              "      <td>True</td>\n",
              "      <td>True</td>\n",
              "      <td>True</td>\n",
              "    </tr>\n",
              "    <tr>\n",
              "      <th>18238</th>\n",
              "      <td>True</td>\n",
              "      <td>False</td>\n",
              "      <td>False</td>\n",
              "      <td>True</td>\n",
              "      <td>True</td>\n",
              "    </tr>\n",
              "    <tr>\n",
              "      <th>18239</th>\n",
              "      <td>True</td>\n",
              "      <td>True</td>\n",
              "      <td>True</td>\n",
              "      <td>True</td>\n",
              "      <td>True</td>\n",
              "    </tr>\n",
              "    <tr>\n",
              "      <th>18240</th>\n",
              "      <td>True</td>\n",
              "      <td>False</td>\n",
              "      <td>True</td>\n",
              "      <td>True</td>\n",
              "      <td>True</td>\n",
              "    </tr>\n",
              "  </tbody>\n",
              "</table>\n",
              "</div>"
            ],
            "text/plain": [
              "       City  Colors Reported  Shape Reported  State  Time\n",
              "18236  True            False            True   True  True\n",
              "18237  True            False            True   True  True\n",
              "18238  True            False           False   True  True\n",
              "18239  True             True            True   True  True\n",
              "18240  True            False            True   True  True"
            ]
          },
          "metadata": {
            "tags": []
          },
          "execution_count": 17
        }
      ]
    },
    {
      "cell_type": "code",
      "metadata": {
        "colab": {
          "base_uri": "https://localhost:8080/"
        },
        "id": "QhGqswkmKulX",
        "outputId": "01375e99-99cb-4daa-91ac-caf1c4628044"
      },
      "source": [
        "# count the number of missing values in each Series\n",
        "ufo.isnull().sum(axis=0)"
      ],
      "execution_count": null,
      "outputs": [
        {
          "output_type": "execute_result",
          "data": {
            "text/plain": [
              "City                  25\n",
              "Colors Reported    15359\n",
              "Shape Reported      2644\n",
              "State                  0\n",
              "Time                   0\n",
              "dtype: int64"
            ]
          },
          "metadata": {
            "tags": []
          },
          "execution_count": 18
        }
      ]
    },
    {
      "cell_type": "markdown",
      "metadata": {
        "id": "_1_MZF9dLGme"
      },
      "source": [
        "This calculation works because:\n",
        "\n",
        "The sum method for a DataFrame operates on axis=0 by default (and thus produces column sums).\n",
        "In order to add boolean values, pandas converts True to 1 and False to 0.\n"
      ]
    },
    {
      "cell_type": "code",
      "metadata": {
        "colab": {
          "base_uri": "https://localhost:8080/",
          "height": 824
        },
        "id": "pUQH-gcwC8qQ",
        "outputId": "893644c5-2297-41b8-affd-2cad58b346e6"
      },
      "source": [
        "ufo[ufo[\"City\"].isnull()]"
      ],
      "execution_count": null,
      "outputs": [
        {
          "output_type": "execute_result",
          "data": {
            "text/html": [
              "<div>\n",
              "<style scoped>\n",
              "    .dataframe tbody tr th:only-of-type {\n",
              "        vertical-align: middle;\n",
              "    }\n",
              "\n",
              "    .dataframe tbody tr th {\n",
              "        vertical-align: top;\n",
              "    }\n",
              "\n",
              "    .dataframe thead th {\n",
              "        text-align: right;\n",
              "    }\n",
              "</style>\n",
              "<table border=\"1\" class=\"dataframe\">\n",
              "  <thead>\n",
              "    <tr style=\"text-align: right;\">\n",
              "      <th></th>\n",
              "      <th>City</th>\n",
              "      <th>Colors Reported</th>\n",
              "      <th>Shape Reported</th>\n",
              "      <th>State</th>\n",
              "      <th>Time</th>\n",
              "    </tr>\n",
              "  </thead>\n",
              "  <tbody>\n",
              "    <tr>\n",
              "      <th>21</th>\n",
              "      <td>NaN</td>\n",
              "      <td>NaN</td>\n",
              "      <td>NaN</td>\n",
              "      <td>LA</td>\n",
              "      <td>8/15/1943 0:00</td>\n",
              "    </tr>\n",
              "    <tr>\n",
              "      <th>22</th>\n",
              "      <td>NaN</td>\n",
              "      <td>NaN</td>\n",
              "      <td>LIGHT</td>\n",
              "      <td>LA</td>\n",
              "      <td>8/15/1943 0:00</td>\n",
              "    </tr>\n",
              "    <tr>\n",
              "      <th>204</th>\n",
              "      <td>NaN</td>\n",
              "      <td>NaN</td>\n",
              "      <td>DISK</td>\n",
              "      <td>CA</td>\n",
              "      <td>7/15/1952 12:30</td>\n",
              "    </tr>\n",
              "    <tr>\n",
              "      <th>241</th>\n",
              "      <td>NaN</td>\n",
              "      <td>BLUE</td>\n",
              "      <td>DISK</td>\n",
              "      <td>MT</td>\n",
              "      <td>7/4/1953 14:00</td>\n",
              "    </tr>\n",
              "    <tr>\n",
              "      <th>613</th>\n",
              "      <td>NaN</td>\n",
              "      <td>NaN</td>\n",
              "      <td>DISK</td>\n",
              "      <td>NV</td>\n",
              "      <td>7/1/1960 12:00</td>\n",
              "    </tr>\n",
              "    <tr>\n",
              "      <th>1877</th>\n",
              "      <td>NaN</td>\n",
              "      <td>YELLOW</td>\n",
              "      <td>CIRCLE</td>\n",
              "      <td>AZ</td>\n",
              "      <td>8/15/1969 1:00</td>\n",
              "    </tr>\n",
              "    <tr>\n",
              "      <th>2013</th>\n",
              "      <td>NaN</td>\n",
              "      <td>NaN</td>\n",
              "      <td>NaN</td>\n",
              "      <td>NH</td>\n",
              "      <td>8/1/1970 9:30</td>\n",
              "    </tr>\n",
              "    <tr>\n",
              "      <th>2546</th>\n",
              "      <td>NaN</td>\n",
              "      <td>NaN</td>\n",
              "      <td>FIREBALL</td>\n",
              "      <td>OH</td>\n",
              "      <td>10/25/1973 23:30</td>\n",
              "    </tr>\n",
              "    <tr>\n",
              "      <th>3123</th>\n",
              "      <td>NaN</td>\n",
              "      <td>RED</td>\n",
              "      <td>TRIANGLE</td>\n",
              "      <td>WV</td>\n",
              "      <td>11/25/1975 23:00</td>\n",
              "    </tr>\n",
              "    <tr>\n",
              "      <th>4736</th>\n",
              "      <td>NaN</td>\n",
              "      <td>NaN</td>\n",
              "      <td>SPHERE</td>\n",
              "      <td>CA</td>\n",
              "      <td>6/23/1982 23:00</td>\n",
              "    </tr>\n",
              "    <tr>\n",
              "      <th>5269</th>\n",
              "      <td>NaN</td>\n",
              "      <td>NaN</td>\n",
              "      <td>NaN</td>\n",
              "      <td>AZ</td>\n",
              "      <td>6/30/1985 21:30</td>\n",
              "    </tr>\n",
              "    <tr>\n",
              "      <th>6735</th>\n",
              "      <td>NaN</td>\n",
              "      <td>NaN</td>\n",
              "      <td>FORMATION</td>\n",
              "      <td>TX</td>\n",
              "      <td>4/1/1992 2:00</td>\n",
              "    </tr>\n",
              "    <tr>\n",
              "      <th>7208</th>\n",
              "      <td>NaN</td>\n",
              "      <td>NaN</td>\n",
              "      <td>CIRCLE</td>\n",
              "      <td>MI</td>\n",
              "      <td>10/4/1993 17:30</td>\n",
              "    </tr>\n",
              "    <tr>\n",
              "      <th>8828</th>\n",
              "      <td>NaN</td>\n",
              "      <td>NaN</td>\n",
              "      <td>TRIANGLE</td>\n",
              "      <td>WA</td>\n",
              "      <td>10/30/1995 21:30</td>\n",
              "    </tr>\n",
              "    <tr>\n",
              "      <th>8967</th>\n",
              "      <td>NaN</td>\n",
              "      <td>NaN</td>\n",
              "      <td>VARIOUS</td>\n",
              "      <td>CA</td>\n",
              "      <td>12/8/1995 18:00</td>\n",
              "    </tr>\n",
              "    <tr>\n",
              "      <th>9273</th>\n",
              "      <td>NaN</td>\n",
              "      <td>NaN</td>\n",
              "      <td>TRIANGLE</td>\n",
              "      <td>OH</td>\n",
              "      <td>5/1/1996 3:00</td>\n",
              "    </tr>\n",
              "    <tr>\n",
              "      <th>9388</th>\n",
              "      <td>NaN</td>\n",
              "      <td>NaN</td>\n",
              "      <td>OVAL</td>\n",
              "      <td>CA</td>\n",
              "      <td>6/12/1996 12:00</td>\n",
              "    </tr>\n",
              "    <tr>\n",
              "      <th>9587</th>\n",
              "      <td>NaN</td>\n",
              "      <td>NaN</td>\n",
              "      <td>EGG</td>\n",
              "      <td>FL</td>\n",
              "      <td>8/24/1996 15:00</td>\n",
              "    </tr>\n",
              "    <tr>\n",
              "      <th>10399</th>\n",
              "      <td>NaN</td>\n",
              "      <td>NaN</td>\n",
              "      <td>TRIANGLE</td>\n",
              "      <td>IL</td>\n",
              "      <td>6/15/1997 23:00</td>\n",
              "    </tr>\n",
              "    <tr>\n",
              "      <th>11625</th>\n",
              "      <td>NaN</td>\n",
              "      <td>NaN</td>\n",
              "      <td>CIRCLE</td>\n",
              "      <td>TX</td>\n",
              "      <td>6/7/1998 7:00</td>\n",
              "    </tr>\n",
              "    <tr>\n",
              "      <th>12441</th>\n",
              "      <td>NaN</td>\n",
              "      <td>RED</td>\n",
              "      <td>FIREBALL</td>\n",
              "      <td>WA</td>\n",
              "      <td>10/26/1998 17:58</td>\n",
              "    </tr>\n",
              "    <tr>\n",
              "      <th>15767</th>\n",
              "      <td>NaN</td>\n",
              "      <td>NaN</td>\n",
              "      <td>RECTANGLE</td>\n",
              "      <td>NV</td>\n",
              "      <td>1/21/2000 11:30</td>\n",
              "    </tr>\n",
              "    <tr>\n",
              "      <th>15812</th>\n",
              "      <td>NaN</td>\n",
              "      <td>NaN</td>\n",
              "      <td>LIGHT</td>\n",
              "      <td>NV</td>\n",
              "      <td>2/2/2000 3:00</td>\n",
              "    </tr>\n",
              "    <tr>\n",
              "      <th>16054</th>\n",
              "      <td>NaN</td>\n",
              "      <td>GREEN</td>\n",
              "      <td>NaN</td>\n",
              "      <td>FL</td>\n",
              "      <td>3/11/2000 3:30</td>\n",
              "    </tr>\n",
              "    <tr>\n",
              "      <th>16608</th>\n",
              "      <td>NaN</td>\n",
              "      <td>NaN</td>\n",
              "      <td>SPHERE</td>\n",
              "      <td>NY</td>\n",
              "      <td>6/15/2000 15:00</td>\n",
              "    </tr>\n",
              "  </tbody>\n",
              "</table>\n",
              "</div>"
            ],
            "text/plain": [
              "      City Colors Reported Shape Reported State              Time\n",
              "21     NaN             NaN            NaN    LA    8/15/1943 0:00\n",
              "22     NaN             NaN          LIGHT    LA    8/15/1943 0:00\n",
              "204    NaN             NaN           DISK    CA   7/15/1952 12:30\n",
              "241    NaN            BLUE           DISK    MT    7/4/1953 14:00\n",
              "613    NaN             NaN           DISK    NV    7/1/1960 12:00\n",
              "1877   NaN          YELLOW         CIRCLE    AZ    8/15/1969 1:00\n",
              "2013   NaN             NaN            NaN    NH     8/1/1970 9:30\n",
              "2546   NaN             NaN       FIREBALL    OH  10/25/1973 23:30\n",
              "3123   NaN             RED       TRIANGLE    WV  11/25/1975 23:00\n",
              "4736   NaN             NaN         SPHERE    CA   6/23/1982 23:00\n",
              "5269   NaN             NaN            NaN    AZ   6/30/1985 21:30\n",
              "6735   NaN             NaN      FORMATION    TX     4/1/1992 2:00\n",
              "7208   NaN             NaN         CIRCLE    MI   10/4/1993 17:30\n",
              "8828   NaN             NaN       TRIANGLE    WA  10/30/1995 21:30\n",
              "8967   NaN             NaN        VARIOUS    CA   12/8/1995 18:00\n",
              "9273   NaN             NaN       TRIANGLE    OH     5/1/1996 3:00\n",
              "9388   NaN             NaN           OVAL    CA   6/12/1996 12:00\n",
              "9587   NaN             NaN            EGG    FL   8/24/1996 15:00\n",
              "10399  NaN             NaN       TRIANGLE    IL   6/15/1997 23:00\n",
              "11625  NaN             NaN         CIRCLE    TX     6/7/1998 7:00\n",
              "12441  NaN             RED       FIREBALL    WA  10/26/1998 17:58\n",
              "15767  NaN             NaN      RECTANGLE    NV   1/21/2000 11:30\n",
              "15812  NaN             NaN          LIGHT    NV     2/2/2000 3:00\n",
              "16054  NaN           GREEN            NaN    FL    3/11/2000 3:30\n",
              "16608  NaN             NaN         SPHERE    NY   6/15/2000 15:00"
            ]
          },
          "metadata": {
            "tags": []
          },
          "execution_count": 9
        }
      ]
    },
    {
      "cell_type": "markdown",
      "metadata": {
        "id": "IQJYGTXTDC4R"
      },
      "source": [
        "# Sample CSV with NaN values"
      ]
    },
    {
      "cell_type": "code",
      "metadata": {
        "colab": {
          "base_uri": "https://localhost:8080/"
        },
        "id": "0HBEum2ANzh0",
        "outputId": "b10e1c48-9726-4702-fc96-1cd75905fe6b"
      },
      "source": [
        "csvFile=\"https://raw.githubusercontent.com/codebasics/py/master/pandas/5_handling_missing_data_fillna_dropna_interpolate/weather_data.csv\"\n",
        "df = pd.read_csv(csvFile)\n",
        "print(df)"
      ],
      "execution_count": null,
      "outputs": [
        {
          "output_type": "stream",
          "text": [
            "         day  temperature  windspeed   event\n",
            "0   1/1/2017         32.0        6.0    Rain\n",
            "1   1/4/2017          NaN        9.0   Sunny\n",
            "2   1/5/2017         28.0        NaN    Snow\n",
            "3   1/6/2017          NaN        7.0     NaN\n",
            "4   1/7/2017         32.0        NaN    Rain\n",
            "5   1/8/2017          NaN        NaN   Sunny\n",
            "6   1/9/2017          NaN        NaN     NaN\n",
            "7  1/10/2017         34.0        8.0  Cloudy\n",
            "8  1/11/2017         40.0       12.0   Sunny\n"
          ],
          "name": "stdout"
        }
      ]
    },
    {
      "cell_type": "markdown",
      "metadata": {
        "id": "V1Sz5sUtLteb"
      },
      "source": [
        "## Changing Index to be by date "
      ]
    },
    {
      "cell_type": "code",
      "metadata": {
        "colab": {
          "base_uri": "https://localhost:8080/"
        },
        "id": "KeY9tzDjND3M",
        "outputId": "c0decc65-440b-4d11-f15f-d36ad70c7c6e"
      },
      "source": [
        "print(type(df['day']))\n",
        "print(type(df['day'][0]))"
      ],
      "execution_count": null,
      "outputs": [
        {
          "output_type": "stream",
          "text": [
            "<class 'pandas.core.series.Series'>\n",
            "<class 'str'>\n"
          ],
          "name": "stdout"
        }
      ]
    },
    {
      "cell_type": "code",
      "metadata": {
        "id": "gDGZZgKrNJdY"
      },
      "source": [
        "df = pd.read_csv(csvFile,parse_dates=['day'])"
      ],
      "execution_count": null,
      "outputs": []
    },
    {
      "cell_type": "code",
      "metadata": {
        "colab": {
          "base_uri": "https://localhost:8080/"
        },
        "id": "Dh_ww-uDNgrx",
        "outputId": "72b14d71-192e-49bc-a0f8-944226a38eeb"
      },
      "source": [
        "print(type(df['day']))\n",
        "print(type(df['day'][0]))"
      ],
      "execution_count": null,
      "outputs": [
        {
          "output_type": "stream",
          "text": [
            "<class 'pandas.core.series.Series'>\n",
            "<class 'pandas._libs.tslibs.timestamps.Timestamp'>\n"
          ],
          "name": "stdout"
        }
      ]
    },
    {
      "cell_type": "code",
      "metadata": {
        "id": "ndHL4KgmKGmF",
        "colab": {
          "base_uri": "https://localhost:8080/",
          "height": 359
        },
        "outputId": "b751c628-2047-4c05-ab42-a26589313e49"
      },
      "source": [
        "#  earlier the index column was a series of number but later it has been replaced with day\n",
        "df.set_index('day',inplace=True)\n",
        "df"
      ],
      "execution_count": null,
      "outputs": [
        {
          "output_type": "execute_result",
          "data": {
            "text/html": [
              "<div>\n",
              "<style scoped>\n",
              "    .dataframe tbody tr th:only-of-type {\n",
              "        vertical-align: middle;\n",
              "    }\n",
              "\n",
              "    .dataframe tbody tr th {\n",
              "        vertical-align: top;\n",
              "    }\n",
              "\n",
              "    .dataframe thead th {\n",
              "        text-align: right;\n",
              "    }\n",
              "</style>\n",
              "<table border=\"1\" class=\"dataframe\">\n",
              "  <thead>\n",
              "    <tr style=\"text-align: right;\">\n",
              "      <th></th>\n",
              "      <th>temperature</th>\n",
              "      <th>windspeed</th>\n",
              "      <th>event</th>\n",
              "    </tr>\n",
              "    <tr>\n",
              "      <th>day</th>\n",
              "      <th></th>\n",
              "      <th></th>\n",
              "      <th></th>\n",
              "    </tr>\n",
              "  </thead>\n",
              "  <tbody>\n",
              "    <tr>\n",
              "      <th>2017-01-01</th>\n",
              "      <td>32.0</td>\n",
              "      <td>6.0</td>\n",
              "      <td>Rain</td>\n",
              "    </tr>\n",
              "    <tr>\n",
              "      <th>2017-01-04</th>\n",
              "      <td>NaN</td>\n",
              "      <td>9.0</td>\n",
              "      <td>Sunny</td>\n",
              "    </tr>\n",
              "    <tr>\n",
              "      <th>2017-01-05</th>\n",
              "      <td>28.0</td>\n",
              "      <td>NaN</td>\n",
              "      <td>Snow</td>\n",
              "    </tr>\n",
              "    <tr>\n",
              "      <th>2017-01-06</th>\n",
              "      <td>NaN</td>\n",
              "      <td>7.0</td>\n",
              "      <td>NaN</td>\n",
              "    </tr>\n",
              "    <tr>\n",
              "      <th>2017-01-07</th>\n",
              "      <td>32.0</td>\n",
              "      <td>NaN</td>\n",
              "      <td>Rain</td>\n",
              "    </tr>\n",
              "    <tr>\n",
              "      <th>2017-01-08</th>\n",
              "      <td>NaN</td>\n",
              "      <td>NaN</td>\n",
              "      <td>Sunny</td>\n",
              "    </tr>\n",
              "    <tr>\n",
              "      <th>2017-01-09</th>\n",
              "      <td>NaN</td>\n",
              "      <td>NaN</td>\n",
              "      <td>NaN</td>\n",
              "    </tr>\n",
              "    <tr>\n",
              "      <th>2017-01-10</th>\n",
              "      <td>34.0</td>\n",
              "      <td>8.0</td>\n",
              "      <td>Cloudy</td>\n",
              "    </tr>\n",
              "    <tr>\n",
              "      <th>2017-01-11</th>\n",
              "      <td>40.0</td>\n",
              "      <td>12.0</td>\n",
              "      <td>Sunny</td>\n",
              "    </tr>\n",
              "  </tbody>\n",
              "</table>\n",
              "</div>"
            ],
            "text/plain": [
              "            temperature  windspeed   event\n",
              "day                                       \n",
              "2017-01-01         32.0        6.0    Rain\n",
              "2017-01-04          NaN        9.0   Sunny\n",
              "2017-01-05         28.0        NaN    Snow\n",
              "2017-01-06          NaN        7.0     NaN\n",
              "2017-01-07         32.0        NaN    Rain\n",
              "2017-01-08          NaN        NaN   Sunny\n",
              "2017-01-09          NaN        NaN     NaN\n",
              "2017-01-10         34.0        8.0  Cloudy\n",
              "2017-01-11         40.0       12.0   Sunny"
            ]
          },
          "metadata": {
            "tags": []
          },
          "execution_count": 25
        }
      ]
    },
    {
      "cell_type": "markdown",
      "metadata": {
        "id": "6jOfIuRoKGmF"
      },
      "source": [
        "## <font color=\"blue\">fillna</font>"
      ]
    },
    {
      "cell_type": "markdown",
      "metadata": {
        "id": "f3KORjg7KGmF"
      },
      "source": [
        "<font color=\"purple\">**Fill all NaN with one specific value**</font>"
      ]
    },
    {
      "cell_type": "code",
      "metadata": {
        "scrolled": true,
        "id": "OEeVTA5iKGmF",
        "colab": {
          "base_uri": "https://localhost:8080/",
          "height": 359
        },
        "outputId": "e92aa458-74c4-45d3-9403-6f88284300fa"
      },
      "source": [
        "new_df = df.fillna(0)\n",
        "new_df"
      ],
      "execution_count": null,
      "outputs": [
        {
          "output_type": "execute_result",
          "data": {
            "text/html": [
              "<div>\n",
              "<style scoped>\n",
              "    .dataframe tbody tr th:only-of-type {\n",
              "        vertical-align: middle;\n",
              "    }\n",
              "\n",
              "    .dataframe tbody tr th {\n",
              "        vertical-align: top;\n",
              "    }\n",
              "\n",
              "    .dataframe thead th {\n",
              "        text-align: right;\n",
              "    }\n",
              "</style>\n",
              "<table border=\"1\" class=\"dataframe\">\n",
              "  <thead>\n",
              "    <tr style=\"text-align: right;\">\n",
              "      <th></th>\n",
              "      <th>temperature</th>\n",
              "      <th>windspeed</th>\n",
              "      <th>event</th>\n",
              "    </tr>\n",
              "    <tr>\n",
              "      <th>day</th>\n",
              "      <th></th>\n",
              "      <th></th>\n",
              "      <th></th>\n",
              "    </tr>\n",
              "  </thead>\n",
              "  <tbody>\n",
              "    <tr>\n",
              "      <th>2017-01-01</th>\n",
              "      <td>32.0</td>\n",
              "      <td>6.0</td>\n",
              "      <td>Rain</td>\n",
              "    </tr>\n",
              "    <tr>\n",
              "      <th>2017-01-04</th>\n",
              "      <td>0.0</td>\n",
              "      <td>9.0</td>\n",
              "      <td>Sunny</td>\n",
              "    </tr>\n",
              "    <tr>\n",
              "      <th>2017-01-05</th>\n",
              "      <td>28.0</td>\n",
              "      <td>0.0</td>\n",
              "      <td>Snow</td>\n",
              "    </tr>\n",
              "    <tr>\n",
              "      <th>2017-01-06</th>\n",
              "      <td>0.0</td>\n",
              "      <td>7.0</td>\n",
              "      <td>0</td>\n",
              "    </tr>\n",
              "    <tr>\n",
              "      <th>2017-01-07</th>\n",
              "      <td>32.0</td>\n",
              "      <td>0.0</td>\n",
              "      <td>Rain</td>\n",
              "    </tr>\n",
              "    <tr>\n",
              "      <th>2017-01-08</th>\n",
              "      <td>0.0</td>\n",
              "      <td>0.0</td>\n",
              "      <td>Sunny</td>\n",
              "    </tr>\n",
              "    <tr>\n",
              "      <th>2017-01-09</th>\n",
              "      <td>0.0</td>\n",
              "      <td>0.0</td>\n",
              "      <td>0</td>\n",
              "    </tr>\n",
              "    <tr>\n",
              "      <th>2017-01-10</th>\n",
              "      <td>34.0</td>\n",
              "      <td>8.0</td>\n",
              "      <td>Cloudy</td>\n",
              "    </tr>\n",
              "    <tr>\n",
              "      <th>2017-01-11</th>\n",
              "      <td>40.0</td>\n",
              "      <td>12.0</td>\n",
              "      <td>Sunny</td>\n",
              "    </tr>\n",
              "  </tbody>\n",
              "</table>\n",
              "</div>"
            ],
            "text/plain": [
              "            temperature  windspeed   event\n",
              "day                                       \n",
              "2017-01-01         32.0        6.0    Rain\n",
              "2017-01-04          0.0        9.0   Sunny\n",
              "2017-01-05         28.0        0.0    Snow\n",
              "2017-01-06          0.0        7.0       0\n",
              "2017-01-07         32.0        0.0    Rain\n",
              "2017-01-08          0.0        0.0   Sunny\n",
              "2017-01-09          0.0        0.0       0\n",
              "2017-01-10         34.0        8.0  Cloudy\n",
              "2017-01-11         40.0       12.0   Sunny"
            ]
          },
          "metadata": {
            "tags": []
          },
          "execution_count": 26
        }
      ]
    },
    {
      "cell_type": "markdown",
      "metadata": {
        "id": "Qq4lDYX7KGmF"
      },
      "source": [
        "<font color=\"purple\">**Fill na using column names and dict**</font>"
      ]
    },
    {
      "cell_type": "code",
      "metadata": {
        "id": "IcSXlLXWKGmG",
        "colab": {
          "base_uri": "https://localhost:8080/",
          "height": 359
        },
        "outputId": "1f1c40db-1858-4116-f338-f07595b9a524"
      },
      "source": [
        "new_df = df.fillna({\n",
        "        'temperature': 0,\n",
        "        'windspeed': 0,\n",
        "        'event': 'No Event'\n",
        "    })\n",
        "new_df"
      ],
      "execution_count": null,
      "outputs": [
        {
          "output_type": "execute_result",
          "data": {
            "text/html": [
              "<div>\n",
              "<style scoped>\n",
              "    .dataframe tbody tr th:only-of-type {\n",
              "        vertical-align: middle;\n",
              "    }\n",
              "\n",
              "    .dataframe tbody tr th {\n",
              "        vertical-align: top;\n",
              "    }\n",
              "\n",
              "    .dataframe thead th {\n",
              "        text-align: right;\n",
              "    }\n",
              "</style>\n",
              "<table border=\"1\" class=\"dataframe\">\n",
              "  <thead>\n",
              "    <tr style=\"text-align: right;\">\n",
              "      <th></th>\n",
              "      <th>temperature</th>\n",
              "      <th>windspeed</th>\n",
              "      <th>event</th>\n",
              "    </tr>\n",
              "    <tr>\n",
              "      <th>day</th>\n",
              "      <th></th>\n",
              "      <th></th>\n",
              "      <th></th>\n",
              "    </tr>\n",
              "  </thead>\n",
              "  <tbody>\n",
              "    <tr>\n",
              "      <th>2017-01-01</th>\n",
              "      <td>32.0</td>\n",
              "      <td>6.0</td>\n",
              "      <td>Rain</td>\n",
              "    </tr>\n",
              "    <tr>\n",
              "      <th>2017-01-04</th>\n",
              "      <td>0.0</td>\n",
              "      <td>9.0</td>\n",
              "      <td>Sunny</td>\n",
              "    </tr>\n",
              "    <tr>\n",
              "      <th>2017-01-05</th>\n",
              "      <td>28.0</td>\n",
              "      <td>0.0</td>\n",
              "      <td>Snow</td>\n",
              "    </tr>\n",
              "    <tr>\n",
              "      <th>2017-01-06</th>\n",
              "      <td>0.0</td>\n",
              "      <td>7.0</td>\n",
              "      <td>No Event</td>\n",
              "    </tr>\n",
              "    <tr>\n",
              "      <th>2017-01-07</th>\n",
              "      <td>32.0</td>\n",
              "      <td>0.0</td>\n",
              "      <td>Rain</td>\n",
              "    </tr>\n",
              "    <tr>\n",
              "      <th>2017-01-08</th>\n",
              "      <td>0.0</td>\n",
              "      <td>0.0</td>\n",
              "      <td>Sunny</td>\n",
              "    </tr>\n",
              "    <tr>\n",
              "      <th>2017-01-09</th>\n",
              "      <td>0.0</td>\n",
              "      <td>0.0</td>\n",
              "      <td>No Event</td>\n",
              "    </tr>\n",
              "    <tr>\n",
              "      <th>2017-01-10</th>\n",
              "      <td>34.0</td>\n",
              "      <td>8.0</td>\n",
              "      <td>Cloudy</td>\n",
              "    </tr>\n",
              "    <tr>\n",
              "      <th>2017-01-11</th>\n",
              "      <td>40.0</td>\n",
              "      <td>12.0</td>\n",
              "      <td>Sunny</td>\n",
              "    </tr>\n",
              "  </tbody>\n",
              "</table>\n",
              "</div>"
            ],
            "text/plain": [
              "            temperature  windspeed     event\n",
              "day                                         \n",
              "2017-01-01         32.0        6.0      Rain\n",
              "2017-01-04          0.0        9.0     Sunny\n",
              "2017-01-05         28.0        0.0      Snow\n",
              "2017-01-06          0.0        7.0  No Event\n",
              "2017-01-07         32.0        0.0      Rain\n",
              "2017-01-08          0.0        0.0     Sunny\n",
              "2017-01-09          0.0        0.0  No Event\n",
              "2017-01-10         34.0        8.0    Cloudy\n",
              "2017-01-11         40.0       12.0     Sunny"
            ]
          },
          "metadata": {
            "tags": []
          },
          "execution_count": 26
        }
      ]
    },
    {
      "cell_type": "markdown",
      "metadata": {
        "id": "xW2526LuKGmG"
      },
      "source": [
        "<font color=\"purple\">**Use method to determine how to fill na values**</font>"
      ]
    },
    {
      "cell_type": "code",
      "metadata": {
        "scrolled": false,
        "id": "KlfFXScHKGmG",
        "outputId": "da0a1f33-aa87-4c72-d4b7-f17552af0eb8"
      },
      "source": [
        "new_df = df.fillna(method=\"ffill\")     #forward fill take the previous values  to fill missing value\n",
        "new_df"
      ],
      "execution_count": null,
      "outputs": [
        {
          "output_type": "execute_result",
          "data": {
            "text/html": [
              "<div>\n",
              "<table border=\"1\" class=\"dataframe\">\n",
              "  <thead>\n",
              "    <tr style=\"text-align: right;\">\n",
              "      <th></th>\n",
              "      <th>temperature</th>\n",
              "      <th>windspeed</th>\n",
              "      <th>event</th>\n",
              "    </tr>\n",
              "    <tr>\n",
              "      <th>day</th>\n",
              "      <th></th>\n",
              "      <th></th>\n",
              "      <th></th>\n",
              "    </tr>\n",
              "  </thead>\n",
              "  <tbody>\n",
              "    <tr>\n",
              "      <th>2017-01-01</th>\n",
              "      <td>32.0</td>\n",
              "      <td>6.0</td>\n",
              "      <td>Rain</td>\n",
              "    </tr>\n",
              "    <tr>\n",
              "      <th>2017-01-04</th>\n",
              "      <td>32.0</td>\n",
              "      <td>7.0</td>\n",
              "      <td>Sunny</td>\n",
              "    </tr>\n",
              "    <tr>\n",
              "      <th>2017-01-05</th>\n",
              "      <td>28.0</td>\n",
              "      <td>7.0</td>\n",
              "      <td>Snow</td>\n",
              "    </tr>\n",
              "    <tr>\n",
              "      <th>2017-01-06</th>\n",
              "      <td>28.0</td>\n",
              "      <td>7.0</td>\n",
              "      <td>Snow</td>\n",
              "    </tr>\n",
              "    <tr>\n",
              "      <th>2017-01-07</th>\n",
              "      <td>32.0</td>\n",
              "      <td>7.0</td>\n",
              "      <td>Rain</td>\n",
              "    </tr>\n",
              "    <tr>\n",
              "      <th>2017-01-08</th>\n",
              "      <td>32.0</td>\n",
              "      <td>7.0</td>\n",
              "      <td>Sunny</td>\n",
              "    </tr>\n",
              "    <tr>\n",
              "      <th>2017-01-09</th>\n",
              "      <td>32.0</td>\n",
              "      <td>7.0</td>\n",
              "      <td>Sunny</td>\n",
              "    </tr>\n",
              "    <tr>\n",
              "      <th>2017-01-10</th>\n",
              "      <td>34.0</td>\n",
              "      <td>8.0</td>\n",
              "      <td>Cloudy</td>\n",
              "    </tr>\n",
              "    <tr>\n",
              "      <th>2017-01-11</th>\n",
              "      <td>40.0</td>\n",
              "      <td>12.0</td>\n",
              "      <td>Sunny</td>\n",
              "    </tr>\n",
              "  </tbody>\n",
              "</table>\n",
              "</div>"
            ],
            "text/plain": [
              "            temperature  windspeed   event\n",
              "day                                       \n",
              "2017-01-01         32.0        6.0    Rain\n",
              "2017-01-04         32.0        7.0   Sunny\n",
              "2017-01-05         28.0        7.0    Snow\n",
              "2017-01-06         28.0        7.0    Snow\n",
              "2017-01-07         32.0        7.0    Rain\n",
              "2017-01-08         32.0        7.0   Sunny\n",
              "2017-01-09         32.0        7.0   Sunny\n",
              "2017-01-10         34.0        8.0  Cloudy\n",
              "2017-01-11         40.0       12.0   Sunny"
            ]
          },
          "metadata": {
            "tags": []
          },
          "execution_count": 60
        }
      ]
    },
    {
      "cell_type": "code",
      "metadata": {
        "scrolled": true,
        "id": "_2cBLnWdKGmG",
        "colab": {
          "base_uri": "https://localhost:8080/",
          "height": 359
        },
        "outputId": "1579e0e0-56e3-4113-f207-dd56a88c2cf7"
      },
      "source": [
        "new_df = df.fillna(method=\"bfill\",axis=\"index\")    #use next valid observation to fill previous gap\n",
        "new_df"
      ],
      "execution_count": null,
      "outputs": [
        {
          "output_type": "execute_result",
          "data": {
            "text/html": [
              "<div>\n",
              "<style scoped>\n",
              "    .dataframe tbody tr th:only-of-type {\n",
              "        vertical-align: middle;\n",
              "    }\n",
              "\n",
              "    .dataframe tbody tr th {\n",
              "        vertical-align: top;\n",
              "    }\n",
              "\n",
              "    .dataframe thead th {\n",
              "        text-align: right;\n",
              "    }\n",
              "</style>\n",
              "<table border=\"1\" class=\"dataframe\">\n",
              "  <thead>\n",
              "    <tr style=\"text-align: right;\">\n",
              "      <th></th>\n",
              "      <th>temperature</th>\n",
              "      <th>windspeed</th>\n",
              "      <th>event</th>\n",
              "    </tr>\n",
              "    <tr>\n",
              "      <th>day</th>\n",
              "      <th></th>\n",
              "      <th></th>\n",
              "      <th></th>\n",
              "    </tr>\n",
              "  </thead>\n",
              "  <tbody>\n",
              "    <tr>\n",
              "      <th>2017-01-01</th>\n",
              "      <td>32.0</td>\n",
              "      <td>6.0</td>\n",
              "      <td>Rain</td>\n",
              "    </tr>\n",
              "    <tr>\n",
              "      <th>2017-01-04</th>\n",
              "      <td>28.0</td>\n",
              "      <td>9.0</td>\n",
              "      <td>Sunny</td>\n",
              "    </tr>\n",
              "    <tr>\n",
              "      <th>2017-01-05</th>\n",
              "      <td>28.0</td>\n",
              "      <td>7.0</td>\n",
              "      <td>Snow</td>\n",
              "    </tr>\n",
              "    <tr>\n",
              "      <th>2017-01-06</th>\n",
              "      <td>32.0</td>\n",
              "      <td>7.0</td>\n",
              "      <td>Rain</td>\n",
              "    </tr>\n",
              "    <tr>\n",
              "      <th>2017-01-07</th>\n",
              "      <td>32.0</td>\n",
              "      <td>8.0</td>\n",
              "      <td>Rain</td>\n",
              "    </tr>\n",
              "    <tr>\n",
              "      <th>2017-01-08</th>\n",
              "      <td>34.0</td>\n",
              "      <td>8.0</td>\n",
              "      <td>Sunny</td>\n",
              "    </tr>\n",
              "    <tr>\n",
              "      <th>2017-01-09</th>\n",
              "      <td>34.0</td>\n",
              "      <td>8.0</td>\n",
              "      <td>Cloudy</td>\n",
              "    </tr>\n",
              "    <tr>\n",
              "      <th>2017-01-10</th>\n",
              "      <td>34.0</td>\n",
              "      <td>8.0</td>\n",
              "      <td>Cloudy</td>\n",
              "    </tr>\n",
              "    <tr>\n",
              "      <th>2017-01-11</th>\n",
              "      <td>40.0</td>\n",
              "      <td>12.0</td>\n",
              "      <td>Sunny</td>\n",
              "    </tr>\n",
              "  </tbody>\n",
              "</table>\n",
              "</div>"
            ],
            "text/plain": [
              "            temperature  windspeed   event\n",
              "day                                       \n",
              "2017-01-01         32.0        6.0    Rain\n",
              "2017-01-04         28.0        9.0   Sunny\n",
              "2017-01-05         28.0        7.0    Snow\n",
              "2017-01-06         32.0        7.0    Rain\n",
              "2017-01-07         32.0        8.0    Rain\n",
              "2017-01-08         34.0        8.0   Sunny\n",
              "2017-01-09         34.0        8.0  Cloudy\n",
              "2017-01-10         34.0        8.0  Cloudy\n",
              "2017-01-11         40.0       12.0   Sunny"
            ]
          },
          "metadata": {
            "tags": []
          },
          "execution_count": 9
        }
      ]
    },
    {
      "cell_type": "markdown",
      "metadata": {
        "id": "cNEUVeoYKGmG"
      },
      "source": [
        "<font color=\"purple\">**Use of axis**</font>"
      ]
    },
    {
      "cell_type": "code",
      "metadata": {
        "id": "voDF3yU0KGmG",
        "colab": {
          "base_uri": "https://localhost:8080/",
          "height": 359
        },
        "outputId": "111e78b5-2de3-4b8c-c112-682f82ec3421"
      },
      "source": [
        "new_df = df.fillna(method=\"bfill\", axis=\"columns\") # axis is either \"index\" or \"columns\"\n",
        "new_df"
      ],
      "execution_count": null,
      "outputs": [
        {
          "output_type": "execute_result",
          "data": {
            "text/html": [
              "<div>\n",
              "<style scoped>\n",
              "    .dataframe tbody tr th:only-of-type {\n",
              "        vertical-align: middle;\n",
              "    }\n",
              "\n",
              "    .dataframe tbody tr th {\n",
              "        vertical-align: top;\n",
              "    }\n",
              "\n",
              "    .dataframe thead th {\n",
              "        text-align: right;\n",
              "    }\n",
              "</style>\n",
              "<table border=\"1\" class=\"dataframe\">\n",
              "  <thead>\n",
              "    <tr style=\"text-align: right;\">\n",
              "      <th></th>\n",
              "      <th>temperature</th>\n",
              "      <th>windspeed</th>\n",
              "      <th>event</th>\n",
              "    </tr>\n",
              "    <tr>\n",
              "      <th>day</th>\n",
              "      <th></th>\n",
              "      <th></th>\n",
              "      <th></th>\n",
              "    </tr>\n",
              "  </thead>\n",
              "  <tbody>\n",
              "    <tr>\n",
              "      <th>2017-01-01</th>\n",
              "      <td>32</td>\n",
              "      <td>6</td>\n",
              "      <td>Rain</td>\n",
              "    </tr>\n",
              "    <tr>\n",
              "      <th>2017-01-04</th>\n",
              "      <td>9</td>\n",
              "      <td>9</td>\n",
              "      <td>Sunny</td>\n",
              "    </tr>\n",
              "    <tr>\n",
              "      <th>2017-01-05</th>\n",
              "      <td>28</td>\n",
              "      <td>Snow</td>\n",
              "      <td>Snow</td>\n",
              "    </tr>\n",
              "    <tr>\n",
              "      <th>2017-01-06</th>\n",
              "      <td>7</td>\n",
              "      <td>7</td>\n",
              "      <td>NaN</td>\n",
              "    </tr>\n",
              "    <tr>\n",
              "      <th>2017-01-07</th>\n",
              "      <td>32</td>\n",
              "      <td>Rain</td>\n",
              "      <td>Rain</td>\n",
              "    </tr>\n",
              "    <tr>\n",
              "      <th>2017-01-08</th>\n",
              "      <td>Sunny</td>\n",
              "      <td>Sunny</td>\n",
              "      <td>Sunny</td>\n",
              "    </tr>\n",
              "    <tr>\n",
              "      <th>2017-01-09</th>\n",
              "      <td>NaN</td>\n",
              "      <td>NaN</td>\n",
              "      <td>NaN</td>\n",
              "    </tr>\n",
              "    <tr>\n",
              "      <th>2017-01-10</th>\n",
              "      <td>34</td>\n",
              "      <td>8</td>\n",
              "      <td>Cloudy</td>\n",
              "    </tr>\n",
              "    <tr>\n",
              "      <th>2017-01-11</th>\n",
              "      <td>40</td>\n",
              "      <td>12</td>\n",
              "      <td>Sunny</td>\n",
              "    </tr>\n",
              "  </tbody>\n",
              "</table>\n",
              "</div>"
            ],
            "text/plain": [
              "           temperature windspeed   event\n",
              "day                                     \n",
              "2017-01-01          32         6    Rain\n",
              "2017-01-04           9         9   Sunny\n",
              "2017-01-05          28      Snow    Snow\n",
              "2017-01-06           7         7     NaN\n",
              "2017-01-07          32      Rain    Rain\n",
              "2017-01-08       Sunny     Sunny   Sunny\n",
              "2017-01-09         NaN       NaN     NaN\n",
              "2017-01-10          34         8  Cloudy\n",
              "2017-01-11          40        12   Sunny"
            ]
          },
          "metadata": {
            "tags": []
          },
          "execution_count": 10
        }
      ]
    },
    {
      "cell_type": "markdown",
      "metadata": {
        "id": "9wrHcpRHKGmG"
      },
      "source": [
        "<font color=\"purple\">**limit parameter**</font>"
      ]
    },
    {
      "cell_type": "code",
      "metadata": {
        "id": "KWFkQ4NZKGmG",
        "colab": {
          "base_uri": "https://localhost:8080/",
          "height": 359
        },
        "outputId": "56b31886-757e-4390-8cf0-87a84e3f68c4"
      },
      "source": [
        "new_df = df.fillna(method=\"ffill\",limit=1)     #limit set how many values to carry to replace NaN\n",
        "new_df"
      ],
      "execution_count": null,
      "outputs": [
        {
          "output_type": "execute_result",
          "data": {
            "text/html": [
              "<div>\n",
              "<style scoped>\n",
              "    .dataframe tbody tr th:only-of-type {\n",
              "        vertical-align: middle;\n",
              "    }\n",
              "\n",
              "    .dataframe tbody tr th {\n",
              "        vertical-align: top;\n",
              "    }\n",
              "\n",
              "    .dataframe thead th {\n",
              "        text-align: right;\n",
              "    }\n",
              "</style>\n",
              "<table border=\"1\" class=\"dataframe\">\n",
              "  <thead>\n",
              "    <tr style=\"text-align: right;\">\n",
              "      <th></th>\n",
              "      <th>temperature</th>\n",
              "      <th>windspeed</th>\n",
              "      <th>event</th>\n",
              "    </tr>\n",
              "    <tr>\n",
              "      <th>day</th>\n",
              "      <th></th>\n",
              "      <th></th>\n",
              "      <th></th>\n",
              "    </tr>\n",
              "  </thead>\n",
              "  <tbody>\n",
              "    <tr>\n",
              "      <th>2017-01-01</th>\n",
              "      <td>32.0</td>\n",
              "      <td>6.0</td>\n",
              "      <td>Rain</td>\n",
              "    </tr>\n",
              "    <tr>\n",
              "      <th>2017-01-04</th>\n",
              "      <td>32.0</td>\n",
              "      <td>9.0</td>\n",
              "      <td>Sunny</td>\n",
              "    </tr>\n",
              "    <tr>\n",
              "      <th>2017-01-05</th>\n",
              "      <td>28.0</td>\n",
              "      <td>9.0</td>\n",
              "      <td>Snow</td>\n",
              "    </tr>\n",
              "    <tr>\n",
              "      <th>2017-01-06</th>\n",
              "      <td>28.0</td>\n",
              "      <td>7.0</td>\n",
              "      <td>Snow</td>\n",
              "    </tr>\n",
              "    <tr>\n",
              "      <th>2017-01-07</th>\n",
              "      <td>32.0</td>\n",
              "      <td>7.0</td>\n",
              "      <td>Rain</td>\n",
              "    </tr>\n",
              "    <tr>\n",
              "      <th>2017-01-08</th>\n",
              "      <td>32.0</td>\n",
              "      <td>NaN</td>\n",
              "      <td>Sunny</td>\n",
              "    </tr>\n",
              "    <tr>\n",
              "      <th>2017-01-09</th>\n",
              "      <td>NaN</td>\n",
              "      <td>NaN</td>\n",
              "      <td>Sunny</td>\n",
              "    </tr>\n",
              "    <tr>\n",
              "      <th>2017-01-10</th>\n",
              "      <td>34.0</td>\n",
              "      <td>8.0</td>\n",
              "      <td>Cloudy</td>\n",
              "    </tr>\n",
              "    <tr>\n",
              "      <th>2017-01-11</th>\n",
              "      <td>40.0</td>\n",
              "      <td>12.0</td>\n",
              "      <td>Sunny</td>\n",
              "    </tr>\n",
              "  </tbody>\n",
              "</table>\n",
              "</div>"
            ],
            "text/plain": [
              "            temperature  windspeed   event\n",
              "day                                       \n",
              "2017-01-01         32.0        6.0    Rain\n",
              "2017-01-04         32.0        9.0   Sunny\n",
              "2017-01-05         28.0        9.0    Snow\n",
              "2017-01-06         28.0        7.0    Snow\n",
              "2017-01-07         32.0        7.0    Rain\n",
              "2017-01-08         32.0        NaN   Sunny\n",
              "2017-01-09          NaN        NaN   Sunny\n",
              "2017-01-10         34.0        8.0  Cloudy\n",
              "2017-01-11         40.0       12.0   Sunny"
            ]
          },
          "metadata": {
            "tags": []
          },
          "execution_count": 11
        }
      ]
    },
    {
      "cell_type": "markdown",
      "metadata": {
        "id": "29g7FCuoKGmG"
      },
      "source": [
        "## <font color=\"blue\">interpolate</font>\n",
        "Use interpolate() function to fill the missing values "
      ]
    },
    {
      "cell_type": "code",
      "metadata": {
        "scrolled": false,
        "id": "wfA36-zkKGmG",
        "outputId": "135efbcf-f782-4066-b32e-d58be493f349"
      },
      "source": [
        "new_df = df.interpolate()     # using linear method by default\n",
        "new_df"
      ],
      "execution_count": null,
      "outputs": [
        {
          "output_type": "execute_result",
          "data": {
            "text/html": [
              "<div>\n",
              "<table border=\"1\" class=\"dataframe\">\n",
              "  <thead>\n",
              "    <tr style=\"text-align: right;\">\n",
              "      <th></th>\n",
              "      <th>temperature</th>\n",
              "      <th>windspeed</th>\n",
              "      <th>event</th>\n",
              "    </tr>\n",
              "    <tr>\n",
              "      <th>day</th>\n",
              "      <th></th>\n",
              "      <th></th>\n",
              "      <th></th>\n",
              "    </tr>\n",
              "  </thead>\n",
              "  <tbody>\n",
              "    <tr>\n",
              "      <th>2017-01-01</th>\n",
              "      <td>32.000000</td>\n",
              "      <td>6.00</td>\n",
              "      <td>Rain</td>\n",
              "    </tr>\n",
              "    <tr>\n",
              "      <th>2017-01-04</th>\n",
              "      <td>30.000000</td>\n",
              "      <td>7.00</td>\n",
              "      <td>Sunny</td>\n",
              "    </tr>\n",
              "    <tr>\n",
              "      <th>2017-01-05</th>\n",
              "      <td>28.000000</td>\n",
              "      <td>7.00</td>\n",
              "      <td>Snow</td>\n",
              "    </tr>\n",
              "    <tr>\n",
              "      <th>2017-01-06</th>\n",
              "      <td>30.000000</td>\n",
              "      <td>7.00</td>\n",
              "      <td>NaN</td>\n",
              "    </tr>\n",
              "    <tr>\n",
              "      <th>2017-01-07</th>\n",
              "      <td>32.000000</td>\n",
              "      <td>7.25</td>\n",
              "      <td>Rain</td>\n",
              "    </tr>\n",
              "    <tr>\n",
              "      <th>2017-01-08</th>\n",
              "      <td>32.666667</td>\n",
              "      <td>7.50</td>\n",
              "      <td>Sunny</td>\n",
              "    </tr>\n",
              "    <tr>\n",
              "      <th>2017-01-09</th>\n",
              "      <td>33.333333</td>\n",
              "      <td>7.75</td>\n",
              "      <td>NaN</td>\n",
              "    </tr>\n",
              "    <tr>\n",
              "      <th>2017-01-10</th>\n",
              "      <td>34.000000</td>\n",
              "      <td>8.00</td>\n",
              "      <td>Cloudy</td>\n",
              "    </tr>\n",
              "    <tr>\n",
              "      <th>2017-01-11</th>\n",
              "      <td>40.000000</td>\n",
              "      <td>12.00</td>\n",
              "      <td>Sunny</td>\n",
              "    </tr>\n",
              "  </tbody>\n",
              "</table>\n",
              "</div>"
            ],
            "text/plain": [
              "            temperature  windspeed   event\n",
              "day                                       \n",
              "2017-01-01    32.000000       6.00    Rain\n",
              "2017-01-04    30.000000       7.00   Sunny\n",
              "2017-01-05    28.000000       7.00    Snow\n",
              "2017-01-06    30.000000       7.00     NaN\n",
              "2017-01-07    32.000000       7.25    Rain\n",
              "2017-01-08    32.666667       7.50   Sunny\n",
              "2017-01-09    33.333333       7.75     NaN\n",
              "2017-01-10    34.000000       8.00  Cloudy\n",
              "2017-01-11    40.000000      12.00   Sunny"
            ]
          },
          "metadata": {
            "tags": []
          },
          "execution_count": 43
        }
      ]
    },
    {
      "cell_type": "markdown",
      "metadata": {
        "id": "m9KmWWQOVksv"
      },
      "source": [
        "![image.png](data:image/png;base64,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)"
      ]
    },
    {
      "cell_type": "code",
      "metadata": {
        "id": "jEPE4VsCKGmG",
        "colab": {
          "base_uri": "https://localhost:8080/",
          "height": 359
        },
        "outputId": "ee583575-ea3f-4d40-9334-2da2124fde3a"
      },
      "source": [
        "new_df = df.interpolate(method=\"time\") \n",
        "new_df"
      ],
      "execution_count": null,
      "outputs": [
        {
          "output_type": "execute_result",
          "data": {
            "text/html": [
              "<div>\n",
              "<style scoped>\n",
              "    .dataframe tbody tr th:only-of-type {\n",
              "        vertical-align: middle;\n",
              "    }\n",
              "\n",
              "    .dataframe tbody tr th {\n",
              "        vertical-align: top;\n",
              "    }\n",
              "\n",
              "    .dataframe thead th {\n",
              "        text-align: right;\n",
              "    }\n",
              "</style>\n",
              "<table border=\"1\" class=\"dataframe\">\n",
              "  <thead>\n",
              "    <tr style=\"text-align: right;\">\n",
              "      <th></th>\n",
              "      <th>temperature</th>\n",
              "      <th>windspeed</th>\n",
              "      <th>event</th>\n",
              "    </tr>\n",
              "    <tr>\n",
              "      <th>day</th>\n",
              "      <th></th>\n",
              "      <th></th>\n",
              "      <th></th>\n",
              "    </tr>\n",
              "  </thead>\n",
              "  <tbody>\n",
              "    <tr>\n",
              "      <th>2017-01-01</th>\n",
              "      <td>32.000000</td>\n",
              "      <td>6.00</td>\n",
              "      <td>Rain</td>\n",
              "    </tr>\n",
              "    <tr>\n",
              "      <th>2017-01-04</th>\n",
              "      <td>29.000000</td>\n",
              "      <td>9.00</td>\n",
              "      <td>Sunny</td>\n",
              "    </tr>\n",
              "    <tr>\n",
              "      <th>2017-01-05</th>\n",
              "      <td>28.000000</td>\n",
              "      <td>8.00</td>\n",
              "      <td>Snow</td>\n",
              "    </tr>\n",
              "    <tr>\n",
              "      <th>2017-01-06</th>\n",
              "      <td>30.000000</td>\n",
              "      <td>7.00</td>\n",
              "      <td>NaN</td>\n",
              "    </tr>\n",
              "    <tr>\n",
              "      <th>2017-01-07</th>\n",
              "      <td>32.000000</td>\n",
              "      <td>7.25</td>\n",
              "      <td>Rain</td>\n",
              "    </tr>\n",
              "    <tr>\n",
              "      <th>2017-01-08</th>\n",
              "      <td>32.666667</td>\n",
              "      <td>7.50</td>\n",
              "      <td>Sunny</td>\n",
              "    </tr>\n",
              "    <tr>\n",
              "      <th>2017-01-09</th>\n",
              "      <td>33.333333</td>\n",
              "      <td>7.75</td>\n",
              "      <td>NaN</td>\n",
              "    </tr>\n",
              "    <tr>\n",
              "      <th>2017-01-10</th>\n",
              "      <td>34.000000</td>\n",
              "      <td>8.00</td>\n",
              "      <td>Cloudy</td>\n",
              "    </tr>\n",
              "    <tr>\n",
              "      <th>2017-01-11</th>\n",
              "      <td>40.000000</td>\n",
              "      <td>12.00</td>\n",
              "      <td>Sunny</td>\n",
              "    </tr>\n",
              "  </tbody>\n",
              "</table>\n",
              "</div>"
            ],
            "text/plain": [
              "            temperature  windspeed   event\n",
              "day                                       \n",
              "2017-01-01    32.000000       6.00    Rain\n",
              "2017-01-04    29.000000       9.00   Sunny\n",
              "2017-01-05    28.000000       8.00    Snow\n",
              "2017-01-06    30.000000       7.00     NaN\n",
              "2017-01-07    32.000000       7.25    Rain\n",
              "2017-01-08    32.666667       7.50   Sunny\n",
              "2017-01-09    33.333333       7.75     NaN\n",
              "2017-01-10    34.000000       8.00  Cloudy\n",
              "2017-01-11    40.000000      12.00   Sunny"
            ]
          },
          "metadata": {
            "tags": []
          },
          "execution_count": 35
        }
      ]
    },
    {
      "cell_type": "markdown",
      "metadata": {
        "id": "51d4u3eRKGmG"
      },
      "source": [
        "**Notice that in above temperature on 2017-01-04 is 29 instead of 30 (in plain linear interpolate)**"
      ]
    },
    {
      "cell_type": "markdown",
      "metadata": {
        "id": "mF8Fds2IKGmG"
      },
      "source": [
        "**There are many other methods for interpolation such as quadratic, piecewise_polynomial, cubic etc. \n",
        "Just google \"dataframe interpolate\" to see complete documentation**"
      ]
    },
    {
      "cell_type": "markdown",
      "metadata": {
        "id": "V7JvT9IFKGmG"
      },
      "source": [
        "## <font color=\"blue\">dropna</font>"
      ]
    },
    {
      "cell_type": "code",
      "metadata": {
        "id": "HnrHD30XKGmG",
        "colab": {
          "base_uri": "https://localhost:8080/",
          "height": 173
        },
        "outputId": "26cd8842-1354-4400-afee-f362a3aac830"
      },
      "source": [
        "new_df = df.dropna() # drop if any value in row is NaN\n",
        "new_df"
      ],
      "execution_count": null,
      "outputs": [
        {
          "output_type": "execute_result",
          "data": {
            "text/html": [
              "<div>\n",
              "<style scoped>\n",
              "    .dataframe tbody tr th:only-of-type {\n",
              "        vertical-align: middle;\n",
              "    }\n",
              "\n",
              "    .dataframe tbody tr th {\n",
              "        vertical-align: top;\n",
              "    }\n",
              "\n",
              "    .dataframe thead th {\n",
              "        text-align: right;\n",
              "    }\n",
              "</style>\n",
              "<table border=\"1\" class=\"dataframe\">\n",
              "  <thead>\n",
              "    <tr style=\"text-align: right;\">\n",
              "      <th></th>\n",
              "      <th>temperature</th>\n",
              "      <th>windspeed</th>\n",
              "      <th>event</th>\n",
              "    </tr>\n",
              "    <tr>\n",
              "      <th>day</th>\n",
              "      <th></th>\n",
              "      <th></th>\n",
              "      <th></th>\n",
              "    </tr>\n",
              "  </thead>\n",
              "  <tbody>\n",
              "    <tr>\n",
              "      <th>2017-01-01</th>\n",
              "      <td>32.0</td>\n",
              "      <td>6.0</td>\n",
              "      <td>Rain</td>\n",
              "    </tr>\n",
              "    <tr>\n",
              "      <th>2017-01-10</th>\n",
              "      <td>34.0</td>\n",
              "      <td>8.0</td>\n",
              "      <td>Cloudy</td>\n",
              "    </tr>\n",
              "    <tr>\n",
              "      <th>2017-01-11</th>\n",
              "      <td>40.0</td>\n",
              "      <td>12.0</td>\n",
              "      <td>Sunny</td>\n",
              "    </tr>\n",
              "  </tbody>\n",
              "</table>\n",
              "</div>"
            ],
            "text/plain": [
              "            temperature  windspeed   event\n",
              "day                                       \n",
              "2017-01-01         32.0        6.0    Rain\n",
              "2017-01-10         34.0        8.0  Cloudy\n",
              "2017-01-11         40.0       12.0   Sunny"
            ]
          },
          "metadata": {
            "tags": []
          },
          "execution_count": 36
        }
      ]
    },
    {
      "cell_type": "code",
      "metadata": {
        "id": "yaDEofsqKGmH",
        "outputId": "99d6585b-92b8-43ed-c675-44fad4e943ef"
      },
      "source": [
        "new_df = df.dropna(how='all')    #drop only  rows where all data are missed (index is not counted)\n",
        "new_df"
      ],
      "execution_count": null,
      "outputs": [
        {
          "output_type": "execute_result",
          "data": {
            "text/html": [
              "<div>\n",
              "<table border=\"1\" class=\"dataframe\">\n",
              "  <thead>\n",
              "    <tr style=\"text-align: right;\">\n",
              "      <th></th>\n",
              "      <th>temperature</th>\n",
              "      <th>windspeed</th>\n",
              "      <th>event</th>\n",
              "    </tr>\n",
              "    <tr>\n",
              "      <th>day</th>\n",
              "      <th></th>\n",
              "      <th></th>\n",
              "      <th></th>\n",
              "    </tr>\n",
              "  </thead>\n",
              "  <tbody>\n",
              "    <tr>\n",
              "      <th>2017-01-01</th>\n",
              "      <td>32.0</td>\n",
              "      <td>6.0</td>\n",
              "      <td>Rain</td>\n",
              "    </tr>\n",
              "    <tr>\n",
              "      <th>2017-01-04</th>\n",
              "      <td>NaN</td>\n",
              "      <td>7.0</td>\n",
              "      <td>Sunny</td>\n",
              "    </tr>\n",
              "    <tr>\n",
              "      <th>2017-01-05</th>\n",
              "      <td>28.0</td>\n",
              "      <td>NaN</td>\n",
              "      <td>Snow</td>\n",
              "    </tr>\n",
              "    <tr>\n",
              "      <th>2017-01-06</th>\n",
              "      <td>NaN</td>\n",
              "      <td>7.0</td>\n",
              "      <td>NaN</td>\n",
              "    </tr>\n",
              "    <tr>\n",
              "      <th>2017-01-07</th>\n",
              "      <td>32.0</td>\n",
              "      <td>NaN</td>\n",
              "      <td>Rain</td>\n",
              "    </tr>\n",
              "    <tr>\n",
              "      <th>2017-01-08</th>\n",
              "      <td>NaN</td>\n",
              "      <td>NaN</td>\n",
              "      <td>Sunny</td>\n",
              "    </tr>\n",
              "    <tr>\n",
              "      <th>2017-01-10</th>\n",
              "      <td>34.0</td>\n",
              "      <td>8.0</td>\n",
              "      <td>Cloudy</td>\n",
              "    </tr>\n",
              "    <tr>\n",
              "      <th>2017-01-11</th>\n",
              "      <td>40.0</td>\n",
              "      <td>12.0</td>\n",
              "      <td>Sunny</td>\n",
              "    </tr>\n",
              "  </tbody>\n",
              "</table>\n",
              "</div>"
            ],
            "text/plain": [
              "            temperature  windspeed   event\n",
              "day                                       \n",
              "2017-01-01         32.0        6.0    Rain\n",
              "2017-01-04          NaN        7.0   Sunny\n",
              "2017-01-05         28.0        NaN    Snow\n",
              "2017-01-06          NaN        7.0     NaN\n",
              "2017-01-07         32.0        NaN    Rain\n",
              "2017-01-08          NaN        NaN   Sunny\n",
              "2017-01-10         34.0        8.0  Cloudy\n",
              "2017-01-11         40.0       12.0   Sunny"
            ]
          },
          "metadata": {
            "tags": []
          },
          "execution_count": 45
        }
      ]
    },
    {
      "cell_type": "code",
      "metadata": {
        "scrolled": true,
        "id": "O6-EAp_MKGmH",
        "outputId": "ef06be2b-8a6c-44b4-c071-085a3f01e173"
      },
      "source": [
        "new_df = df.dropna(thresh=1)    # at least  count of threshold of none N/A we will keep\n",
        "new_df"
      ],
      "execution_count": null,
      "outputs": [
        {
          "output_type": "execute_result",
          "data": {
            "text/html": [
              "<div>\n",
              "<table border=\"1\" class=\"dataframe\">\n",
              "  <thead>\n",
              "    <tr style=\"text-align: right;\">\n",
              "      <th></th>\n",
              "      <th>temperature</th>\n",
              "      <th>windspeed</th>\n",
              "      <th>event</th>\n",
              "    </tr>\n",
              "    <tr>\n",
              "      <th>day</th>\n",
              "      <th></th>\n",
              "      <th></th>\n",
              "      <th></th>\n",
              "    </tr>\n",
              "  </thead>\n",
              "  <tbody>\n",
              "    <tr>\n",
              "      <th>2017-01-01</th>\n",
              "      <td>32.0</td>\n",
              "      <td>6.0</td>\n",
              "      <td>Rain</td>\n",
              "    </tr>\n",
              "    <tr>\n",
              "      <th>2017-01-04</th>\n",
              "      <td>NaN</td>\n",
              "      <td>7.0</td>\n",
              "      <td>Sunny</td>\n",
              "    </tr>\n",
              "    <tr>\n",
              "      <th>2017-01-05</th>\n",
              "      <td>28.0</td>\n",
              "      <td>NaN</td>\n",
              "      <td>Snow</td>\n",
              "    </tr>\n",
              "    <tr>\n",
              "      <th>2017-01-06</th>\n",
              "      <td>NaN</td>\n",
              "      <td>7.0</td>\n",
              "      <td>NaN</td>\n",
              "    </tr>\n",
              "    <tr>\n",
              "      <th>2017-01-07</th>\n",
              "      <td>32.0</td>\n",
              "      <td>NaN</td>\n",
              "      <td>Rain</td>\n",
              "    </tr>\n",
              "    <tr>\n",
              "      <th>2017-01-08</th>\n",
              "      <td>NaN</td>\n",
              "      <td>NaN</td>\n",
              "      <td>Sunny</td>\n",
              "    </tr>\n",
              "    <tr>\n",
              "      <th>2017-01-10</th>\n",
              "      <td>34.0</td>\n",
              "      <td>8.0</td>\n",
              "      <td>Cloudy</td>\n",
              "    </tr>\n",
              "    <tr>\n",
              "      <th>2017-01-11</th>\n",
              "      <td>40.0</td>\n",
              "      <td>12.0</td>\n",
              "      <td>Sunny</td>\n",
              "    </tr>\n",
              "  </tbody>\n",
              "</table>\n",
              "</div>"
            ],
            "text/plain": [
              "            temperature  windspeed   event\n",
              "day                                       \n",
              "2017-01-01         32.0        6.0    Rain\n",
              "2017-01-04          NaN        7.0   Sunny\n",
              "2017-01-05         28.0        NaN    Snow\n",
              "2017-01-06          NaN        7.0     NaN\n",
              "2017-01-07         32.0        NaN    Rain\n",
              "2017-01-08          NaN        NaN   Sunny\n",
              "2017-01-10         34.0        8.0  Cloudy\n",
              "2017-01-11         40.0       12.0   Sunny"
            ]
          },
          "metadata": {
            "tags": []
          },
          "execution_count": 49
        }
      ]
    },
    {
      "cell_type": "code",
      "metadata": {
        "colab": {
          "base_uri": "https://localhost:8080/",
          "height": 266
        },
        "id": "T7LEAhz5Wqs0",
        "outputId": "afd81966-645e-4831-fa7f-609bda913002"
      },
      "source": [
        "new_df = df.dropna(thresh=2)    # at least  count of threshold of none N/A we will keep\n",
        "new_df"
      ],
      "execution_count": null,
      "outputs": [
        {
          "output_type": "execute_result",
          "data": {
            "text/html": [
              "<div>\n",
              "<style scoped>\n",
              "    .dataframe tbody tr th:only-of-type {\n",
              "        vertical-align: middle;\n",
              "    }\n",
              "\n",
              "    .dataframe tbody tr th {\n",
              "        vertical-align: top;\n",
              "    }\n",
              "\n",
              "    .dataframe thead th {\n",
              "        text-align: right;\n",
              "    }\n",
              "</style>\n",
              "<table border=\"1\" class=\"dataframe\">\n",
              "  <thead>\n",
              "    <tr style=\"text-align: right;\">\n",
              "      <th></th>\n",
              "      <th>temperature</th>\n",
              "      <th>windspeed</th>\n",
              "      <th>event</th>\n",
              "    </tr>\n",
              "    <tr>\n",
              "      <th>day</th>\n",
              "      <th></th>\n",
              "      <th></th>\n",
              "      <th></th>\n",
              "    </tr>\n",
              "  </thead>\n",
              "  <tbody>\n",
              "    <tr>\n",
              "      <th>2017-01-01</th>\n",
              "      <td>32.0</td>\n",
              "      <td>6.0</td>\n",
              "      <td>Rain</td>\n",
              "    </tr>\n",
              "    <tr>\n",
              "      <th>2017-01-04</th>\n",
              "      <td>NaN</td>\n",
              "      <td>9.0</td>\n",
              "      <td>Sunny</td>\n",
              "    </tr>\n",
              "    <tr>\n",
              "      <th>2017-01-05</th>\n",
              "      <td>28.0</td>\n",
              "      <td>NaN</td>\n",
              "      <td>Snow</td>\n",
              "    </tr>\n",
              "    <tr>\n",
              "      <th>2017-01-07</th>\n",
              "      <td>32.0</td>\n",
              "      <td>NaN</td>\n",
              "      <td>Rain</td>\n",
              "    </tr>\n",
              "    <tr>\n",
              "      <th>2017-01-10</th>\n",
              "      <td>34.0</td>\n",
              "      <td>8.0</td>\n",
              "      <td>Cloudy</td>\n",
              "    </tr>\n",
              "    <tr>\n",
              "      <th>2017-01-11</th>\n",
              "      <td>40.0</td>\n",
              "      <td>12.0</td>\n",
              "      <td>Sunny</td>\n",
              "    </tr>\n",
              "  </tbody>\n",
              "</table>\n",
              "</div>"
            ],
            "text/plain": [
              "            temperature  windspeed   event\n",
              "day                                       \n",
              "2017-01-01         32.0        6.0    Rain\n",
              "2017-01-04          NaN        9.0   Sunny\n",
              "2017-01-05         28.0        NaN    Snow\n",
              "2017-01-07         32.0        NaN    Rain\n",
              "2017-01-10         34.0        8.0  Cloudy\n",
              "2017-01-11         40.0       12.0   Sunny"
            ]
          },
          "metadata": {
            "tags": []
          },
          "execution_count": 37
        }
      ]
    },
    {
      "cell_type": "markdown",
      "metadata": {
        "id": "iS3FzBWBIKkK"
      },
      "source": [
        "### ufo "
      ]
    },
    {
      "cell_type": "code",
      "metadata": {
        "colab": {
          "base_uri": "https://localhost:8080/"
        },
        "id": "mCO65oWYH7qF",
        "outputId": "20d3cec8-a5a4-4aaf-d63b-d9136bd092e5"
      },
      "source": [
        "ufo.shape\n"
      ],
      "execution_count": null,
      "outputs": [
        {
          "output_type": "execute_result",
          "data": {
            "text/plain": [
              "(18241, 5)"
            ]
          },
          "metadata": {
            "tags": []
          },
          "execution_count": 8
        }
      ]
    },
    {
      "cell_type": "code",
      "metadata": {
        "colab": {
          "base_uri": "https://localhost:8080/"
        },
        "id": "xnt8Q6iYIBlS",
        "outputId": "b36b0171-2eac-4d16-939e-090c5270693a"
      },
      "source": [
        "ufo.dropna( how='all').shape     #No effect\n"
      ],
      "execution_count": null,
      "outputs": [
        {
          "output_type": "execute_result",
          "data": {
            "text/plain": [
              "(18241, 5)"
            ]
          },
          "metadata": {
            "tags": []
          },
          "execution_count": 9
        }
      ]
    },
    {
      "cell_type": "code",
      "metadata": {
        "id": "iSZjxHcyr6oF",
        "colab": {
          "base_uri": "https://localhost:8080/"
        },
        "outputId": "24e76009-9d59-411f-ad92-a027bd40b173"
      },
      "source": [
        "ufo.dropna(subset=['City', 'Shape Reported'], how='all').shape\n"
      ],
      "execution_count": null,
      "outputs": [
        {
          "output_type": "execute_result",
          "data": {
            "text/plain": [
              "(18237, 5)"
            ]
          },
          "metadata": {
            "tags": []
          },
          "execution_count": 10
        }
      ]
    },
    {
      "cell_type": "code",
      "metadata": {
        "colab": {
          "base_uri": "https://localhost:8080/"
        },
        "id": "OWvM7UjVH1t_",
        "outputId": "e33781b4-35d7-43d4-d004-d5b2c9d84dd6"
      },
      "source": [
        "ufo.dropna(subset=['City', 'Shape Reported'], how='any').shape\n"
      ],
      "execution_count": null,
      "outputs": [
        {
          "output_type": "execute_result",
          "data": {
            "text/plain": [
              "(15576, 5)"
            ]
          },
          "metadata": {
            "tags": []
          },
          "execution_count": 11
        }
      ]
    },
    {
      "cell_type": "markdown",
      "metadata": {
        "id": "T0O0rq-8KGmH"
      },
      "source": [
        "## <font color=\"blue\">Inserting Missing Dates</font>"
      ]
    },
    {
      "cell_type": "code",
      "metadata": {
        "id": "_msNlLbVKGmH",
        "outputId": "75ce728c-8026-4ec1-d82c-0f65d533f03c"
      },
      "source": [
        "dt = pd.date_range(\"01-01-2017\",\"01-11-2017\")\n",
        "idx = pd.DatetimeIndex(dt)\n",
        "df.reindex(idx)"
      ],
      "execution_count": null,
      "outputs": [
        {
          "output_type": "execute_result",
          "data": {
            "text/html": [
              "<div>\n",
              "<table border=\"1\" class=\"dataframe\">\n",
              "  <thead>\n",
              "    <tr style=\"text-align: right;\">\n",
              "      <th></th>\n",
              "      <th>temperature</th>\n",
              "      <th>windspeed</th>\n",
              "      <th>event</th>\n",
              "    </tr>\n",
              "  </thead>\n",
              "  <tbody>\n",
              "    <tr>\n",
              "      <th>2017-01-01</th>\n",
              "      <td>32.0</td>\n",
              "      <td>6.0</td>\n",
              "      <td>Rain</td>\n",
              "    </tr>\n",
              "    <tr>\n",
              "      <th>2017-01-02</th>\n",
              "      <td>NaN</td>\n",
              "      <td>NaN</td>\n",
              "      <td>NaN</td>\n",
              "    </tr>\n",
              "    <tr>\n",
              "      <th>2017-01-03</th>\n",
              "      <td>NaN</td>\n",
              "      <td>NaN</td>\n",
              "      <td>NaN</td>\n",
              "    </tr>\n",
              "    <tr>\n",
              "      <th>2017-01-04</th>\n",
              "      <td>NaN</td>\n",
              "      <td>7.0</td>\n",
              "      <td>Sunny</td>\n",
              "    </tr>\n",
              "    <tr>\n",
              "      <th>2017-01-05</th>\n",
              "      <td>28.0</td>\n",
              "      <td>NaN</td>\n",
              "      <td>Snow</td>\n",
              "    </tr>\n",
              "    <tr>\n",
              "      <th>2017-01-06</th>\n",
              "      <td>NaN</td>\n",
              "      <td>7.0</td>\n",
              "      <td>NaN</td>\n",
              "    </tr>\n",
              "    <tr>\n",
              "      <th>2017-01-07</th>\n",
              "      <td>32.0</td>\n",
              "      <td>NaN</td>\n",
              "      <td>Rain</td>\n",
              "    </tr>\n",
              "    <tr>\n",
              "      <th>2017-01-08</th>\n",
              "      <td>NaN</td>\n",
              "      <td>NaN</td>\n",
              "      <td>Sunny</td>\n",
              "    </tr>\n",
              "    <tr>\n",
              "      <th>2017-01-09</th>\n",
              "      <td>NaN</td>\n",
              "      <td>NaN</td>\n",
              "      <td>NaN</td>\n",
              "    </tr>\n",
              "    <tr>\n",
              "      <th>2017-01-10</th>\n",
              "      <td>34.0</td>\n",
              "      <td>8.0</td>\n",
              "      <td>Cloudy</td>\n",
              "    </tr>\n",
              "    <tr>\n",
              "      <th>2017-01-11</th>\n",
              "      <td>40.0</td>\n",
              "      <td>12.0</td>\n",
              "      <td>Sunny</td>\n",
              "    </tr>\n",
              "  </tbody>\n",
              "</table>\n",
              "</div>"
            ],
            "text/plain": [
              "            temperature  windspeed   event\n",
              "2017-01-01         32.0        6.0    Rain\n",
              "2017-01-02          NaN        NaN     NaN\n",
              "2017-01-03          NaN        NaN     NaN\n",
              "2017-01-04          NaN        7.0   Sunny\n",
              "2017-01-05         28.0        NaN    Snow\n",
              "2017-01-06          NaN        7.0     NaN\n",
              "2017-01-07         32.0        NaN    Rain\n",
              "2017-01-08          NaN        NaN   Sunny\n",
              "2017-01-09          NaN        NaN     NaN\n",
              "2017-01-10         34.0        8.0  Cloudy\n",
              "2017-01-11         40.0       12.0   Sunny"
            ]
          },
          "metadata": {
            "tags": []
          },
          "execution_count": 56
        }
      ]
    },
    {
      "cell_type": "markdown",
      "metadata": {
        "id": "8HqjzU99r8N6"
      },
      "source": [
        ""
      ]
    },
    {
      "cell_type": "code",
      "metadata": {
        "colab": {
          "base_uri": "https://localhost:8080/"
        },
        "id": "49ukpmfsr_Ho",
        "outputId": "e104b009-bf69-4678-cc19-298ebb394f4c"
      },
      "source": [
        "csvFile=\"https://raw.githubusercontent.com/codebasics/py/master/pandas/6_handling_missing_data_replace/weather_data.csv\"\n",
        "df = pd.read_csv(csvFile)\n",
        "print(df)"
      ],
      "execution_count": null,
      "outputs": [
        {
          "output_type": "stream",
          "text": [
            "        day  temperature  windspeed  event\n",
            "0  1/1/2017           32          6   Rain\n",
            "1  1/2/2017       -99999          7  Sunny\n",
            "2  1/3/2017           28     -99999   Snow\n",
            "3  1/4/2017       -99999          7      0\n",
            "4  1/5/2017           32     -99999   Rain\n",
            "5  1/6/2017           31          2  Sunny\n",
            "6  1/6/2017           34          5      0\n"
          ],
          "name": "stdout"
        }
      ]
    },
    {
      "cell_type": "code",
      "metadata": {
        "colab": {
          "base_uri": "https://localhost:8080/"
        },
        "id": "f_vk2z-DsefI",
        "outputId": "0b78ceb1-38f5-43a1-e096-cb4d5e9991a2"
      },
      "source": [
        "new_df = df.replace(-99999, value=np.NaN)\n",
        "print(new_df)\n",
        "#new_df = df.replace(to_replace=[-99999,-88888], value=0)     #more than 1 value\n"
      ],
      "execution_count": null,
      "outputs": [
        {
          "output_type": "stream",
          "text": [
            "        day  temperature  windspeed  event\n",
            "0  1/1/2017         32.0        6.0   Rain\n",
            "1  1/2/2017          NaN        7.0  Sunny\n",
            "2  1/3/2017         28.0        NaN   Snow\n",
            "3  1/4/2017          NaN        7.0      0\n",
            "4  1/5/2017         32.0        NaN   Rain\n",
            "5  1/6/2017         31.0        2.0  Sunny\n",
            "6  1/6/2017         34.0        5.0      0\n"
          ],
          "name": "stdout"
        }
      ]
    },
    {
      "cell_type": "markdown",
      "metadata": {
        "id": "uZB285yLtVpz"
      },
      "source": [
        "## Replacing by column"
      ]
    },
    {
      "cell_type": "code",
      "metadata": {
        "colab": {
          "base_uri": "https://localhost:8080/",
          "height": 266
        },
        "id": "-ywhTV3es2EB",
        "outputId": "27095840-97fa-42d4-d076-8ccce34b8940"
      },
      "source": [
        "new_df = df.replace({\n",
        "        'temperature': -99999,\n",
        "        'windspeed': -99999,\n",
        "        'event': '0'\n",
        "    }, np.nan)\n",
        "new_df"
      ],
      "execution_count": null,
      "outputs": [
        {
          "output_type": "execute_result",
          "data": {
            "text/html": [
              "<div>\n",
              "<style scoped>\n",
              "    .dataframe tbody tr th:only-of-type {\n",
              "        vertical-align: middle;\n",
              "    }\n",
              "\n",
              "    .dataframe tbody tr th {\n",
              "        vertical-align: top;\n",
              "    }\n",
              "\n",
              "    .dataframe thead th {\n",
              "        text-align: right;\n",
              "    }\n",
              "</style>\n",
              "<table border=\"1\" class=\"dataframe\">\n",
              "  <thead>\n",
              "    <tr style=\"text-align: right;\">\n",
              "      <th></th>\n",
              "      <th>day</th>\n",
              "      <th>temperature</th>\n",
              "      <th>windspeed</th>\n",
              "      <th>event</th>\n",
              "    </tr>\n",
              "  </thead>\n",
              "  <tbody>\n",
              "    <tr>\n",
              "      <th>0</th>\n",
              "      <td>1/1/2017</td>\n",
              "      <td>32.0</td>\n",
              "      <td>6.0</td>\n",
              "      <td>Rain</td>\n",
              "    </tr>\n",
              "    <tr>\n",
              "      <th>1</th>\n",
              "      <td>1/2/2017</td>\n",
              "      <td>NaN</td>\n",
              "      <td>7.0</td>\n",
              "      <td>Sunny</td>\n",
              "    </tr>\n",
              "    <tr>\n",
              "      <th>2</th>\n",
              "      <td>1/3/2017</td>\n",
              "      <td>28.0</td>\n",
              "      <td>NaN</td>\n",
              "      <td>Snow</td>\n",
              "    </tr>\n",
              "    <tr>\n",
              "      <th>3</th>\n",
              "      <td>1/4/2017</td>\n",
              "      <td>NaN</td>\n",
              "      <td>7.0</td>\n",
              "      <td>NaN</td>\n",
              "    </tr>\n",
              "    <tr>\n",
              "      <th>4</th>\n",
              "      <td>1/5/2017</td>\n",
              "      <td>32.0</td>\n",
              "      <td>NaN</td>\n",
              "      <td>Rain</td>\n",
              "    </tr>\n",
              "    <tr>\n",
              "      <th>5</th>\n",
              "      <td>1/6/2017</td>\n",
              "      <td>31.0</td>\n",
              "      <td>2.0</td>\n",
              "      <td>Sunny</td>\n",
              "    </tr>\n",
              "    <tr>\n",
              "      <th>6</th>\n",
              "      <td>1/6/2017</td>\n",
              "      <td>34.0</td>\n",
              "      <td>5.0</td>\n",
              "      <td>NaN</td>\n",
              "    </tr>\n",
              "  </tbody>\n",
              "</table>\n",
              "</div>"
            ],
            "text/plain": [
              "        day  temperature  windspeed  event\n",
              "0  1/1/2017         32.0        6.0   Rain\n",
              "1  1/2/2017          NaN        7.0  Sunny\n",
              "2  1/3/2017         28.0        NaN   Snow\n",
              "3  1/4/2017          NaN        7.0    NaN\n",
              "4  1/5/2017         32.0        NaN   Rain\n",
              "5  1/6/2017         31.0        2.0  Sunny\n",
              "6  1/6/2017         34.0        5.0    NaN"
            ]
          },
          "metadata": {
            "tags": []
          },
          "execution_count": 46
        }
      ]
    },
    {
      "cell_type": "markdown",
      "metadata": {
        "id": "D3juXyEGtaXT"
      },
      "source": [
        "## Replacing by using mapping\n",
        "\n"
      ]
    },
    {
      "cell_type": "code",
      "metadata": {
        "id": "lJu5D0dftqnT"
      },
      "source": [
        "new_df = df.replace({\n",
        "        -99999: np.nan,\n",
        "        'no event': 'Sunny',\n",
        "    })\n",
        "new_df"
      ],
      "execution_count": null,
      "outputs": []
    }
  ]
}